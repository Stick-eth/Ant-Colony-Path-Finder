{
 "cells": [
  {
   "cell_type": "code",
   "execution_count": 39,
   "id": "a00580be",
   "metadata": {},
   "outputs": [],
   "source": [
    "import numpy as np\n",
    "import networkx as nx\n",
    "import random\n",
    "from tqdm import tqdm\n",
    "import itertools"
   ]
  },
  {
   "cell_type": "code",
   "execution_count": 41,
   "id": "9a2966f2",
   "metadata": {},
   "outputs": [],
   "source": [
    "# Fonction d'initialisation des phéromones\n",
    "def initialize_pheromones(G):\n",
    "    pheromones = {}\n",
    "    for edge in G.edges():\n",
    "        pheromones[edge] = 1.0\n",
    "        pheromones[(edge[1], edge[0])] = 1.0  # Assurer la symétrie\n",
    "    return pheromones"
   ]
  },
  {
   "cell_type": "code",
   "execution_count": 50,
   "id": "e76819fa",
   "metadata": {},
   "outputs": [],
   "source": [
    "# Fonction pour calculer la probabilité de transition\n",
    "def calculate_transition_probabilities(G, pheromones, alpha, beta, current_node, visited):\n",
    "    probabilities = {}\n",
    "    total_sum = 0.0\n",
    "    for neighbor in G.neighbors(current_node):\n",
    "        if neighbor not in visited:\n",
    "            distance = G[current_node][neighbor]['weight']\n",
    "            probabilities[neighbor] = (pheromones[(current_node, neighbor)] ** alpha) * \\\n",
    "                                      ((1.0 / distance) ** beta)\n",
    "            total_sum += probabilities[neighbor]\n",
    "    \n",
    "    if total_sum == 0:\n",
    "        return None\n",
    "\n",
    "    for neighbor in probabilities:\n",
    "        probabilities[neighbor] /= total_sum\n",
    "    \n",
    "    return probabilities"
   ]
  },
  {
   "cell_type": "code",
   "execution_count": 51,
   "id": "17a9132c",
   "metadata": {},
   "outputs": [],
   "source": [
    "# Fonction pour trouver un chemin pour une fourmi\n",
    "def find_path(G, pheromones, alpha, beta, start_node):\n",
    "    path = [start_node]\n",
    "    visited = set(path)\n",
    "    current_node = start_node\n",
    "    while len(visited) < len(G.nodes()):\n",
    "        probabilities = calculate_transition_probabilities(G, pheromones, alpha, beta, current_node, visited)\n",
    "        if probabilities is None:\n",
    "            return None\n",
    "        next_node = random.choices(list(probabilities.keys()), weights=list(probabilities.values()))[0]\n",
    "        path.append(next_node)\n",
    "        visited.add(next_node)\n",
    "        current_node = next_node\n",
    "    path.append(start_node)  # Retourner au point de départ\n",
    "    return path"
   ]
  },
  {
   "cell_type": "code",
   "execution_count": 52,
   "id": "6ad641f5",
   "metadata": {},
   "outputs": [],
   "source": [
    "# Fonction pour mettre à jour les phéromones\n",
    "def update_pheromones(G, pheromones, paths, decay):\n",
    "    for edge in pheromones:\n",
    "        pheromones[edge] *= (1 - decay)\n",
    "    for path in paths:\n",
    "        length = calculate_path_length(G, path)\n",
    "        for i in range(len(path) - 1):\n",
    "            from_node = path[i]\n",
    "            to_node = path[i + 1]\n",
    "            if (from_node, to_node) in pheromones:\n",
    "                pheromones[(from_node, to_node)] += 1.0 / length\n",
    "                pheromones[(to_node, from_node)] += 1.0 / length  # Assurer la symétrie"
   ]
  },
  {
   "cell_type": "code",
   "execution_count": 53,
   "id": "f352609d",
   "metadata": {},
   "outputs": [],
   "source": [
    "# Fonction pour calculer la longueur d'un chemin\n",
    "def calculate_path_length(G, path):\n",
    "    length = 0\n",
    "    for i in range(len(path) - 1):\n",
    "        from_node = path[i]\n",
    "        to_node = path[i + 1]\n",
    "        if G.has_edge(from_node, to_node):\n",
    "            length += G[from_node][to_node]['weight']\n",
    "        else:\n",
    "            return float('inf')  # Retourner une longueur infinie si l'arête n'existe pas\n",
    "    return length"
   ]
  },
  {
   "cell_type": "code",
   "execution_count": 69,
   "id": "4a6bb5eb",
   "metadata": {},
   "outputs": [],
   "source": [
    "# Fonction principale de l'algorithme\n",
    "def ant_colony_optimization(G, num_ants, num_iterations, decay, alpha, beta, show_progress=True):\n",
    "    pheromones = initialize_pheromones(G)\n",
    "    best_path = None\n",
    "    best_length = float('inf')\n",
    "    \n",
    "    # Sélectionnez la méthode d'itération en fonction du paramètre show_progress\n",
    "    iterations = tqdm(range(num_iterations), desc=\"Iterations\") if show_progress else range(num_iterations)\n",
    "    \n",
    "    for iteration in iterations:\n",
    "        paths = []\n",
    "        for _ in range(num_ants):\n",
    "            start_node = random.choice(list(G.nodes()))\n",
    "            path = find_path(G, pheromones, alpha, beta, start_node)\n",
    "            if path is None:\n",
    "                continue\n",
    "            length = calculate_path_length(G, path)\n",
    "            if length == float('inf'):\n",
    "                continue\n",
    "            paths.append(path)\n",
    "            if length < best_length:\n",
    "                best_length = length\n",
    "                best_path = path\n",
    "        update_pheromones(G, pheromones, paths, decay)\n",
    "        # print(f\"Iteration {iteration+1}/{num_iterations}, Best length: {best_length}\")\n",
    "    return best_path, best_length"
   ]
  },
  {
   "cell_type": "code",
   "execution_count": 94,
   "id": "fd6fb7e6",
   "metadata": {},
   "outputs": [],
   "source": [
    "def brute_force(G):\n",
    "    nodes = list(G.nodes())\n",
    "    min_path = None\n",
    "    min_length = float('inf')\n",
    "    permutations = list(itertools.permutations(nodes))\n",
    "    for perm in tqdm(permutations, desc=\"Calcul naïf\"):\n",
    "        current_length = 0\n",
    "        valid = True\n",
    "        # Calculer la longueur du chemin pour cette permutation\n",
    "        for i in range(len(perm) - 1):\n",
    "            if G.has_edge(perm[i], perm[i + 1]):\n",
    "                current_length += G[perm[i]][perm[i + 1]]['weight']\n",
    "            else:\n",
    "                valid = False\n",
    "                break\n",
    "        if valid and G.has_edge(perm[-1], perm[0]):\n",
    "            current_length += G[perm[-1]][perm[0]]['weight']\n",
    "        else:\n",
    "            valid = False\n",
    "        # Mettre à jour le chemin minimal si un chemin valide plus court est trouvé\n",
    "        if valid and current_length < min_length:\n",
    "            min_length = current_length\n",
    "            min_path = perm\n",
    "    if min_path is not None:\n",
    "        min_path = list(min_path)\n",
    "        min_path.append(min_path[0])  # Retour au point de départ\n",
    "    return min_path, min_length"
   ]
  },
  {
   "cell_type": "markdown",
   "id": "bed3fc9a",
   "metadata": {},
   "source": [
    "### Exemple d'utilisation"
   ]
  },
  {
   "cell_type": "code",
   "execution_count": 40,
   "id": "165c0a44",
   "metadata": {},
   "outputs": [],
   "source": [
    "# Extrait du notebook Génération & Visualisation des graphes\n",
    "# Fonction pour générer un graphe aléatoire\n",
    "def random_graph(num_nodes):\n",
    "    G = nx.Graph()\n",
    "    for i in range(num_nodes):\n",
    "        G.add_node(i)\n",
    "    for i in range(num_nodes):\n",
    "        for j in range(i + 1, num_nodes):\n",
    "            weight = random.randint(1, 10)\n",
    "            G.add_edge(i, j, weight=weight)\n",
    "    return G"
   ]
  },
  {
   "cell_type": "code",
   "execution_count": 1,
   "id": "37a1cc62",
   "metadata": {
    "collapsed": true
   },
   "outputs": [
    {
     "ename": "NameError",
     "evalue": "name 'ant_colony_optimization' is not defined",
     "output_type": "error",
     "traceback": [
      "\u001b[1;31m---------------------------------------------------------------------------\u001b[0m",
      "\u001b[1;31mNameError\u001b[0m                                 Traceback (most recent call last)",
      "\u001b[1;32m~\\AppData\\Local\\Temp\\ipykernel_30564\\21578081.py\u001b[0m in \u001b[0;36m<module>\u001b[1;34m\u001b[0m\n\u001b[0;32m      8\u001b[0m \u001b[1;31m# Exemple d'utilisation avec un graphe networkx\u001b[0m\u001b[1;33m\u001b[0m\u001b[1;33m\u001b[0m\u001b[0m\n\u001b[0;32m      9\u001b[0m \u001b[1;31m# Générer un graphe aléatoire avec 10 nœuds\u001b[0m\u001b[1;33m\u001b[0m\u001b[1;33m\u001b[0m\u001b[0m\n\u001b[1;32m---> 10\u001b[1;33m \u001b[0mbest_path\u001b[0m\u001b[1;33m,\u001b[0m \u001b[0mbest_length\u001b[0m \u001b[1;33m=\u001b[0m \u001b[0mant_colony_optimization\u001b[0m\u001b[1;33m(\u001b[0m\u001b[0mrandom_graph\u001b[0m\u001b[1;33m(\u001b[0m\u001b[1;36m10\u001b[0m\u001b[1;33m)\u001b[0m\u001b[1;33m,\u001b[0m \u001b[0mnum_ants\u001b[0m\u001b[1;33m,\u001b[0m \u001b[0mnum_iterations\u001b[0m\u001b[1;33m,\u001b[0m \u001b[0mdecay\u001b[0m\u001b[1;33m,\u001b[0m \u001b[0malpha\u001b[0m\u001b[1;33m,\u001b[0m \u001b[0mbeta\u001b[0m\u001b[1;33m,\u001b[0m\u001b[0mshow_progress\u001b[0m\u001b[1;33m=\u001b[0m\u001b[1;32mFalse\u001b[0m\u001b[1;33m)\u001b[0m\u001b[1;33m\u001b[0m\u001b[1;33m\u001b[0m\u001b[0m\n\u001b[0m\u001b[0;32m     11\u001b[0m \u001b[0mprint\u001b[0m\u001b[1;33m(\u001b[0m\u001b[1;34mf\"Meilleur chemin trouvé: {best_path} avec une longueur de: {best_length}\"\u001b[0m\u001b[1;33m)\u001b[0m\u001b[1;33m\u001b[0m\u001b[1;33m\u001b[0m\u001b[0m\n",
      "\u001b[1;31mNameError\u001b[0m: name 'ant_colony_optimization' is not defined"
     ]
    }
   ],
   "source": [
    "# Exemple d'execution\n",
    "# Paramètres de l'algorithme\n",
    "num_ants = 100\n",
    "num_iterations = 50\n",
    "decay = 0.5\n",
    "alpha = 1\n",
    "beta = 2\n",
    "# Exemple d'utilisation avec un graphe networkx\n",
    "# Générer un graphe aléatoire avec 10 nœuds\n",
    "best_path, best_length = ant_colony_optimization(random_graph(10), num_ants, num_iterations, decay, alpha, beta,show_progress=False)\n",
    "print(f\"Meilleur chemin trouvé: {best_path} avec une longueur de: {best_length}\")"
   ]
  },
  {
   "cell_type": "code",
   "execution_count": null,
   "id": "6ee164c7",
   "metadata": {},
   "outputs": [],
   "source": []
  }
 ],
 "metadata": {
  "kernelspec": {
   "display_name": "Python 3 (ipykernel)",
   "language": "python",
   "name": "python3"
  },
  "language_info": {
   "codemirror_mode": {
    "name": "ipython",
    "version": 3
   },
   "file_extension": ".py",
   "mimetype": "text/x-python",
   "name": "python",
   "nbconvert_exporter": "python",
   "pygments_lexer": "ipython3",
   "version": "3.9.13"
  }
 },
 "nbformat": 4,
 "nbformat_minor": 5
}
